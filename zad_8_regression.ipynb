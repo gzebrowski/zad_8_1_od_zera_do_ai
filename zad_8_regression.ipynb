{
 "cells": [
  {
   "cell_type": "code",
   "execution_count": null,
   "metadata": {},
   "outputs": [],
   "source": [
    "import re\n",
    "import unicodedata\n",
    "\n",
    "from pathlib import Path\n",
    "from typing import Optional\n",
    "\n",
    "import pandas as pd\n",
    "from pycaret.regression import (compare_models, finalize_model, load_model,\n",
    "                                save_model, setup)\n",
    "\n"
   ]
  },
  {
   "cell_type": "code",
   "execution_count": null,
   "metadata": {},
   "outputs": [],
   "source": [
    "def slugify(value, words_sep='-'):\n",
    "    value = str(value).replace('ł', 'l').replace('Ł', 'l')\n",
    "    value = value\n",
    "    value = (\n",
    "        unicodedata.normalize(\"NFKD\", value)\n",
    "        .encode(\"ascii\", \"ignore\")\n",
    "        .decode(\"ascii\")\n",
    "    )\n",
    "    value = re.sub(r\"[^\\w\\s%s]\" % words_sep, \"\", value.lower())\n",
    "    return re.sub(r\"[%s\\s]+\" % words_sep, words_sep, value).strip(\"-_\")\n",
    "\n",
    "\n",
    "def prepare_regression_model(\n",
    "        df: pd.DataFrame,\n",
    "        model_name: str,\n",
    "        target: str,\n",
    "        session_id: Optional[int] = None,\n",
    "        ignore_features: Optional[list[str]] = None,\n",
    "        **kwargs,\n",
    "):\n",
    "    model_f_name = f'{model_name}.pkl'\n",
    "    if not Path(model_f_name).exists():\n",
    "        for kw_key, kw_val in [('ignore_features', ignore_features)]:\n",
    "            if kw_val is not None:\n",
    "                setup_kws = {kw_key: kw_val}\n",
    "        setup(df, target=target, session_id=session_id or 123, **setup_kws, **kwargs)\n",
    "        best_model = compare_models()\n",
    "        final_model = finalize_model(best_model)\n",
    "        save_model(final_model, model_name)\n",
    "    else:\n",
    "        final_model = load_model(model_name)\n",
    "    return final_model\n"
   ]
  },
  {
   "cell_type": "code",
   "execution_count": null,
   "metadata": {},
   "outputs": [],
   "source": [
    "df = pd.read_csv('world-happiness-report.csv')\n",
    "columns = df.columns.to_list()\n",
    "new_columns = list(map(lambda c: slugify(c, '_'), columns))\n",
    "df2 = df.copy()\n",
    "df2.columns = new_columns\n",
    "df3 = df2.copy()[df2['year'] == 2023][[c for c in new_columns if c not in ['year']]]\n",
    "df3.set_index(['country_name'], inplace=True)\n",
    "\n",
    "df3.to_csv('world-happiness-report_2023.csv')\n",
    "\n",
    "prepare_regression_model(df3, 'world_happines_regression_pipeline', 'happiness_score',\n",
    "                         ignore_features=['country_name'])"
   ]
  }
 ],
 "metadata": {
  "kernelspec": {
   "display_name": "od_zera_do_ai",
   "language": "python",
   "name": "python3"
  },
  "language_info": {
   "name": "python",
   "version": "3.11.9"
  }
 },
 "nbformat": 4,
 "nbformat_minor": 2
}
